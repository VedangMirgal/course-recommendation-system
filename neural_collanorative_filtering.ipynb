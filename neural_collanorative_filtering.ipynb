{
 "cells": [
  {
   "cell_type": "markdown",
   "id": "d2b60a8a",
   "metadata": {},
   "source": [
    "Neural Network Embedding-based Collaborative Filtering model"
   ]
  },
  {
   "cell_type": "code",
   "execution_count": 4,
   "id": "4ee0e800",
   "metadata": {},
   "outputs": [],
   "source": [
    "import pandas as pd\n",
    "import torch\n",
    "import torch.nn as nn\n",
    "from torch.utils.data import Dataset, DataLoader\n",
    "from sklearn.model_selection import train_test_split\n",
    "from sklearn.metrics import mean_squared_error\n",
    "import numpy as np"
   ]
  },
  {
   "cell_type": "code",
   "execution_count": 5,
   "id": "be059d0d",
   "metadata": {},
   "outputs": [],
   "source": [
    "device = torch.device(\"cuda\" if torch.cuda.is_available() else \"cpu\")"
   ]
  },
  {
   "cell_type": "code",
   "execution_count": 6,
   "id": "d8b6eb34",
   "metadata": {},
   "outputs": [],
   "source": [
    "# 1. Load data\n",
    "df = pd.read_csv(\"course_ratings.csv\")"
   ]
  },
  {
   "cell_type": "code",
   "execution_count": 7,
   "id": "766bc3b0",
   "metadata": {},
   "outputs": [],
   "source": [
    "#2. Encode users and items to indices\n",
    "user_ids = df['user'].unique()\n",
    "item_ids = df['item'].unique()\n",
    "user2idx = {user: idx for idx, user in enumerate(user_ids)}\n",
    "item2idx = {item: idx for idx, item in enumerate(item_ids)}\n",
    "\n",
    "df['user'] = df['user'].map(user2idx)\n",
    "df['item'] = df['item'].map(item2idx)"
   ]
  },
  {
   "cell_type": "code",
   "execution_count": 8,
   "id": "1ddc97f9",
   "metadata": {},
   "outputs": [],
   "source": [
    "train_df, test_df = train_test_split(df, test_size=0.2, random_state=42)"
   ]
  },
  {
   "cell_type": "code",
   "execution_count": 9,
   "id": "2af0f5f4",
   "metadata": {},
   "outputs": [],
   "source": [
    "# 4. PyTorch Dataset class\n",
    "class RatingDataset(Dataset):\n",
    "    def __init__(self, dataframe):\n",
    "        self.users = torch.tensor(dataframe['user'].values, dtype=torch.long)\n",
    "        self.items = torch.tensor(dataframe['item'].values, dtype=torch.long)\n",
    "        self.ratings = torch.tensor(dataframe['rating'].values, dtype=torch.float32)\n",
    "\n",
    "    def __len__(self):\n",
    "        return len(self.ratings)\n",
    "\n",
    "    def __getitem__(self, idx):\n",
    "        return self.users[idx], self.items[idx], self.ratings[idx]\n",
    "\n",
    "train_ds = RatingDataset(train_df)\n",
    "test_ds = RatingDataset(test_df)\n",
    "\n",
    "train_dl = DataLoader(train_ds, batch_size=64, shuffle=True)\n",
    "test_dl = DataLoader(test_ds, batch_size=64, shuffle=False)\n",
    "\n",
    "# 5. Neural Network Model\n",
    "class RecommenderNet(nn.Module):\n",
    "    def __init__(self, n_users, n_items, embed_dim=50):\n",
    "        super().__init__()\n",
    "        self.user_embedding = nn.Embedding(n_users, embed_dim)\n",
    "        self.item_embedding = nn.Embedding(n_items, embed_dim)\n",
    "        self.fc_layers = nn.Sequential(\n",
    "            nn.Linear(embed_dim * 2, 128),\n",
    "            nn.ReLU(),\n",
    "            nn.Dropout(0.3),\n",
    "            nn.Linear(128, 64),\n",
    "            nn.ReLU(),\n",
    "            nn.Linear(64, 1)\n",
    "        )\n",
    "\n",
    "    def forward(self, user, item):\n",
    "        user_vec = self.user_embedding(user)\n",
    "        item_vec = self.item_embedding(item)\n",
    "        x = torch.cat([user_vec, item_vec], dim=1)\n",
    "        return self.fc_layers(x).squeeze()\n"
   ]
  },
  {
   "cell_type": "code",
   "execution_count": 10,
   "id": "38b4f2ed",
   "metadata": {},
   "outputs": [],
   "source": [
    "# 6. Model setup\n",
    "n_users = len(user2idx)\n",
    "n_items = len(item2idx)\n",
    "\n",
    "model = RecommenderNet(n_users, n_items).to(device)\n",
    "loss_fn = nn.MSELoss()\n",
    "optimizer = torch.optim.Adam(model.parameters(), lr=0.001)\n"
   ]
  },
  {
   "cell_type": "code",
   "execution_count": 11,
   "id": "82cf58d9",
   "metadata": {},
   "outputs": [
    {
     "name": "stdout",
     "output_type": "stream",
     "text": [
      "Epoch 1/5, Training Loss: 0.8702\n",
      "Epoch 2/5, Training Loss: 0.6892\n",
      "Epoch 3/5, Training Loss: 0.6741\n",
      "Epoch 4/5, Training Loss: 0.6667\n",
      "Epoch 5/5, Training Loss: 0.6556\n"
     ]
    }
   ],
   "source": [
    "# 7. Training loop\n",
    "epochs = 5\n",
    "for epoch in range(epochs):\n",
    "    model.train()\n",
    "    total_loss = 0\n",
    "    for user, item, rating in train_dl:\n",
    "        user, item, rating = user.to(device), item.to(device), rating.to(device)\n",
    "        pred = model(user, item)\n",
    "        loss = loss_fn(pred, rating)\n",
    "        optimizer.zero_grad()\n",
    "        loss.backward()\n",
    "        optimizer.step()\n",
    "        total_loss += loss.item()\n",
    "    print(f\"Epoch {epoch+1}/{epochs}, Training Loss: {total_loss/len(train_dl):.4f}\")"
   ]
  },
  {
   "cell_type": "code",
   "execution_count": 12,
   "id": "07548c96",
   "metadata": {},
   "outputs": [
    {
     "name": "stdout",
     "output_type": "stream",
     "text": [
      "Test RMSE: 0.8314\n"
     ]
    }
   ],
   "source": [
    "# 8. Evaluation\n",
    "model.eval()\n",
    "all_preds = []\n",
    "all_actuals = []\n",
    "\n",
    "with torch.no_grad():\n",
    "    for user, item, rating in test_dl:\n",
    "        user, item = user.to(device), item.to(device)\n",
    "        preds = model(user, item).cpu().numpy()\n",
    "        all_preds.extend(preds)\n",
    "        all_actuals.extend(rating.numpy())\n",
    "\n",
    "rmse = np.sqrt(mean_squared_error(all_actuals, all_preds))\n",
    "print(f\"Test RMSE: {rmse:.4f}\")"
   ]
  }
 ],
 "metadata": {
  "kernelspec": {
   "display_name": "Python 3",
   "language": "python",
   "name": "python3"
  },
  "language_info": {
   "codemirror_mode": {
    "name": "ipython",
    "version": 3
   },
   "file_extension": ".py",
   "mimetype": "text/x-python",
   "name": "python",
   "nbconvert_exporter": "python",
   "pygments_lexer": "ipython3",
   "version": "3.12.7"
  }
 },
 "nbformat": 4,
 "nbformat_minor": 5
}
