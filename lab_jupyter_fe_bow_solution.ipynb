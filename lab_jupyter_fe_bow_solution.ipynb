{
 "cells": [
  {
   "cell_type": "markdown",
   "id": "a264d9af-7e75-49f3-95f1-bccc868cc3ce",
   "metadata": {},
   "source": [
    "<p style=\"text-align:center\">\n",
    "    <a href=\"https://skills.network/?utm_medium=Exinfluencer&utm_source=Exinfluencer&utm_content=000026UJ&utm_term=10006555&utm_id=NA-SkillsNetwork-Channel-SkillsNetworkCoursesIBMML321ENSkillsNetwork817-2022-01-01\" target=\"_blank\">\n",
    "    <img src=\"https://cf-courses-data.s3.us.cloud-object-storage.appdomain.cloud/assets/logos/SN_web_lightmode.png\" width=\"200\" alt=\"Skills Network Logo\">\n",
    "    </a>\n",
    "</p>\n"
   ]
  },
  {
   "cell_type": "markdown",
   "id": "861cd18f-d954-4d9d-b89d-b7bcbf0801ae",
   "metadata": {},
   "source": [
    "# **Extract Bag of Words (BoW) Features from Course Textual Content**\n"
   ]
  },
  {
   "cell_type": "markdown",
   "id": "a94a9036-320b-4063-9162-343dee14f44d",
   "metadata": {},
   "source": [
    "Estimated time needed: **60** minutes\n"
   ]
  },
  {
   "cell_type": "markdown",
   "id": "5257e25a-5da7-484e-9960-f39c2413a353",
   "metadata": {},
   "source": [
    "The main goal of recommender systems is to help users find items they potentially interested in. Depending on the recommendation tasks, an item can be a movie, a restaurant, or, in our case, an online course. \n",
    "\n",
    "Machine learning algorithms cannot work on an item directly so we first need to extract features and represent the items mathematically, i.e., with a feature vector.\n",
    "\n",
    "Many items are often described by text so they are associated with textual data, such as the titles and descriptions of a movie or course. Since machine learning algorithms can not process textual data directly, we need to transform the raw text into numeric feature vectors.\n"
   ]
  },
  {
   "cell_type": "markdown",
   "id": "0e604360-fabf-4b52-90d7-e8939562e95f",
   "metadata": {},
   "source": [
    "![](https://cf-courses-data.s3.us.cloud-object-storage.appdomain.cloud/IBM-ML321EN-SkillsNetwork/labs/module_2/images/extract_textual_features.png)\n"
   ]
  },
  {
   "cell_type": "markdown",
   "id": "53ca08d8-224b-4d30-ad58-644415ac0218",
   "metadata": {},
   "source": [
    "In this lab, you will be learning to extract the bag of words (BoW) features from course titles and descriptions. The BoW feature is a simple but effective feature characterizing textual data and is widely used in many textual machine learning tasks.\n"
   ]
  },
  {
   "cell_type": "markdown",
   "id": "8c0ec4cd-0633-41a6-9210-23a3b3d7df05",
   "metadata": {},
   "source": [
    "## Objectives\n"
   ]
  },
  {
   "cell_type": "markdown",
   "id": "c1420c7d-c456-46dc-8f81-f466aa92c463",
   "metadata": {},
   "source": [
    "After completing this lab you will be able to:\n"
   ]
  },
  {
   "cell_type": "markdown",
   "id": "16846a0a-4d57-4907-a7d3-23329f12e908",
   "metadata": {},
   "source": [
    "* Extract Bag of Words (BoW) features from course titles and descriptions\n",
    "* Build a course BoW dataset to be used for building a content-based recommender system later\n"
   ]
  },
  {
   "cell_type": "markdown",
   "id": "21e0d477-fea3-4dcc-b26a-2462ee2aaf1f",
   "metadata": {},
   "source": [
    "----\n"
   ]
  },
  {
   "cell_type": "markdown",
   "id": "a98cb1a8-8c20-43da-9e7b-e729d28f7fb6",
   "metadata": {},
   "source": [
    "## Prepare and setup the lab environment\n"
   ]
  },
  {
   "cell_type": "markdown",
   "id": "f705ccb7-cbb2-4f87-abf4-36d64b9b9216",
   "metadata": {},
   "source": [
    "First, let's install and import required libraries:\n"
   ]
  },
  {
   "cell_type": "code",
   "execution_count": 1,
   "id": "95db9d04-7292-40f9-9543-56df80969d28",
   "metadata": {},
   "outputs": [
    {
     "name": "stdout",
     "output_type": "stream",
     "text": [
      "Collecting nltk==3.6.7\n",
      "  Downloading nltk-3.6.7-py3-none-any.whl.metadata (2.8 kB)\n",
      "Requirement already satisfied: click in c:\\users\\vedan\\appdata\\local\\programs\\python\\python312\\lib\\site-packages (from nltk==3.6.7) (8.1.7)\n",
      "Requirement already satisfied: joblib in c:\\users\\vedan\\appdata\\local\\programs\\python\\python312\\lib\\site-packages (from nltk==3.6.7) (1.4.2)\n",
      "Requirement already satisfied: regex>=2021.8.3 in c:\\users\\vedan\\appdata\\local\\programs\\python\\python312\\lib\\site-packages (from nltk==3.6.7) (2024.11.6)\n",
      "Requirement already satisfied: tqdm in c:\\users\\vedan\\appdata\\local\\programs\\python\\python312\\lib\\site-packages (from nltk==3.6.7) (4.66.5)\n",
      "Requirement already satisfied: colorama in c:\\users\\vedan\\appdata\\local\\programs\\python\\python312\\lib\\site-packages (from click->nltk==3.6.7) (0.4.6)\n",
      "Downloading nltk-3.6.7-py3-none-any.whl (1.5 MB)\n",
      "   ---------------------------------------- 0.0/1.5 MB ? eta -:--:--\n",
      "   ------- -------------------------------- 0.3/1.5 MB ? eta -:--:--\n",
      "   -------------- ------------------------- 0.5/1.5 MB 1.9 MB/s eta 0:00:01\n",
      "   ---------------------------- ----------- 1.0/1.5 MB 1.9 MB/s eta 0:00:01\n",
      "   ---------------------------------------- 1.5/1.5 MB 2.1 MB/s eta 0:00:00\n",
      "Installing collected packages: nltk\n",
      "  Attempting uninstall: nltk\n",
      "    Found existing installation: nltk 3.9.1\n",
      "    Uninstalling nltk-3.9.1:\n",
      "      Successfully uninstalled nltk-3.9.1\n",
      "Successfully installed nltk-3.6.7\n"
     ]
    },
    {
     "name": "stderr",
     "output_type": "stream",
     "text": [
      "ERROR: pip's dependency resolver does not currently take into account all the packages that are installed. This behaviour is the source of the following dependency conflicts.\n",
      "textblob 0.18.0.post0 requires nltk>=3.8, but you have nltk 3.6.7 which is incompatible.\n",
      "\n",
      "[notice] A new release of pip is available: 24.2 -> 25.1.1\n",
      "[notice] To update, run: python.exe -m pip install --upgrade pip\n"
     ]
    },
    {
     "name": "stdout",
     "output_type": "stream",
     "text": [
      "^C\n"
     ]
    },
    {
     "name": "stderr",
     "output_type": "stream",
     "text": [
      "WARNING: Ignoring invalid distribution ~cipy (C:\\Users\\vedan\\AppData\\Local\\Programs\\Python\\Python312\\Lib\\site-packages)\n",
      "ERROR: Ignored the following yanked versions: 1.11.0, 1.14.0rc1\n",
      "ERROR: Ignored the following versions that require a different python version: 1.10.0 Requires-Python <3.12,>=3.8; 1.10.0rc1 Requires-Python <3.12,>=3.8; 1.10.0rc2 Requires-Python <3.12,>=3.8; 1.10.1 Requires-Python <3.12,>=3.8; 1.6.2 Requires-Python >=3.7,<3.10; 1.6.3 Requires-Python >=3.7,<3.10; 1.7.0 Requires-Python >=3.7,<3.10; 1.7.1 Requires-Python >=3.7,<3.10; 1.7.2 Requires-Python >=3.7,<3.11; 1.7.3 Requires-Python >=3.7,<3.11; 1.8.0 Requires-Python >=3.8,<3.11; 1.8.0rc1 Requires-Python >=3.8,<3.11; 1.8.0rc2 Requires-Python >=3.8,<3.11; 1.8.0rc3 Requires-Python >=3.8,<3.11; 1.8.0rc4 Requires-Python >=3.8,<3.11; 1.8.1 Requires-Python >=3.8,<3.11; 1.9.0 Requires-Python >=3.8,<3.12; 1.9.0rc1 Requires-Python >=3.8,<3.12; 1.9.0rc2 Requires-Python >=3.8,<3.12; 1.9.0rc3 Requires-Python >=3.8,<3.12; 1.9.1 Requires-Python >=3.8,<3.12\n",
      "ERROR: Could not find a version that satisfies the requirement scipy==1.10 (from versions: 0.8.0, 0.9.0, 0.10.0, 0.10.1, 0.11.0, 0.12.0, 0.12.1, 0.13.0, 0.13.1, 0.13.2, 0.13.3, 0.14.0, 0.14.1, 0.15.0, 0.15.1, 0.16.0, 0.16.1, 0.17.0, 0.17.1, 0.18.0, 0.18.1, 0.19.0, 0.19.1, 1.0.0, 1.0.1, 1.1.0, 1.2.0, 1.2.1, 1.2.2, 1.2.3, 1.3.0, 1.3.1, 1.3.2, 1.3.3, 1.4.0, 1.4.1, 1.5.0, 1.5.1, 1.5.2, 1.5.3, 1.5.4, 1.6.0, 1.6.1, 1.9.2, 1.9.3, 1.11.0rc1, 1.11.0rc2, 1.11.1, 1.11.2, 1.11.3, 1.11.4, 1.12.0rc1, 1.12.0rc2, 1.12.0, 1.13.0rc1, 1.13.0, 1.13.1, 1.14.0rc2, 1.14.0, 1.14.1, 1.15.0rc1, 1.15.0rc2, 1.15.0, 1.15.1, 1.15.2, 1.15.3, 1.16.0rc1, 1.16.0rc2, 1.16.0)\n",
      "\n",
      "[notice] A new release of pip is available: 24.2 -> 25.1.1\n",
      "[notice] To update, run: python.exe -m pip install --upgrade pip\n",
      "ERROR: No matching distribution found for scipy==1.10\n"
     ]
    },
    {
     "name": "stdout",
     "output_type": "stream",
     "text": [
      "Requirement already satisfied: pandas in c:\\users\\vedan\\appdata\\local\\programs\\python\\python312\\lib\\site-packages (2.2.3)\n",
      "Requirement already satisfied: numpy>=1.26.0 in c:\\users\\vedan\\appdata\\local\\programs\\python\\python312\\lib\\site-packages (from pandas) (1.26.4)\n",
      "Requirement already satisfied: python-dateutil>=2.8.2 in c:\\users\\vedan\\appdata\\local\\programs\\python\\python312\\lib\\site-packages (from pandas) (2.9.0.post0)\n",
      "Requirement already satisfied: pytz>=2020.1 in c:\\users\\vedan\\appdata\\local\\programs\\python\\python312\\lib\\site-packages (from pandas) (2024.2)\n",
      "Requirement already satisfied: tzdata>=2022.7 in c:\\users\\vedan\\appdata\\local\\programs\\python\\python312\\lib\\site-packages (from pandas) (2024.2)\n",
      "Requirement already satisfied: six>=1.5 in c:\\users\\vedan\\appdata\\local\\programs\\python\\python312\\lib\\site-packages (from python-dateutil>=2.8.2->pandas) (1.16.0)\n"
     ]
    },
    {
     "name": "stderr",
     "output_type": "stream",
     "text": [
      "WARNING: Ignoring invalid distribution ~cipy (C:\\Users\\vedan\\AppData\\Local\\Programs\\Python\\Python312\\Lib\\site-packages)\n",
      "WARNING: Ignoring invalid distribution ~cipy (C:\\Users\\vedan\\AppData\\Local\\Programs\\Python\\Python312\\Lib\\site-packages)\n",
      "WARNING: Ignoring invalid distribution ~cipy (C:\\Users\\vedan\\AppData\\Local\\Programs\\Python\\Python312\\Lib\\site-packages)\n",
      "\n",
      "[notice] A new release of pip is available: 24.2 -> 25.1.1\n",
      "[notice] To update, run: python.exe -m pip install --upgrade pip\n"
     ]
    },
    {
     "name": "stdout",
     "output_type": "stream",
     "text": [
      "Requirement already satisfied: nltk in c:\\users\\vedan\\appdata\\local\\programs\\python\\python312\\lib\\site-packages (3.6.7)\n",
      "Requirement already satisfied: click in c:\\users\\vedan\\appdata\\local\\programs\\python\\python312\\lib\\site-packages (from nltk) (8.1.7)\n",
      "Requirement already satisfied: joblib in c:\\users\\vedan\\appdata\\local\\programs\\python\\python312\\lib\\site-packages (from nltk) (1.4.2)\n",
      "Requirement already satisfied: regex>=2021.8.3 in c:\\users\\vedan\\appdata\\local\\programs\\python\\python312\\lib\\site-packages (from nltk) (2024.11.6)\n",
      "Requirement already satisfied: tqdm in c:\\users\\vedan\\appdata\\local\\programs\\python\\python312\\lib\\site-packages (from nltk) (4.66.5)\n",
      "Requirement already satisfied: colorama in c:\\users\\vedan\\appdata\\local\\programs\\python\\python312\\lib\\site-packages (from click->nltk) (0.4.6)\n"
     ]
    },
    {
     "name": "stderr",
     "output_type": "stream",
     "text": [
      "WARNING: Ignoring invalid distribution ~cipy (C:\\Users\\vedan\\AppData\\Local\\Programs\\Python\\Python312\\Lib\\site-packages)\n",
      "WARNING: Ignoring invalid distribution ~cipy (C:\\Users\\vedan\\AppData\\Local\\Programs\\Python\\Python312\\Lib\\site-packages)\n",
      "WARNING: Ignoring invalid distribution ~cipy (C:\\Users\\vedan\\AppData\\Local\\Programs\\Python\\Python312\\Lib\\site-packages)\n",
      "\n",
      "[notice] A new release of pip is available: 24.2 -> 25.1.1\n",
      "[notice] To update, run: python.exe -m pip install --upgrade pip\n"
     ]
    },
    {
     "name": "stdout",
     "output_type": "stream",
     "text": [
      "Requirement already satisfied: matplotlib in c:\\users\\vedan\\appdata\\local\\programs\\python\\python312\\lib\\site-packages (3.9.2)\n",
      "Requirement already satisfied: contourpy>=1.0.1 in c:\\users\\vedan\\appdata\\local\\programs\\python\\python312\\lib\\site-packages (from matplotlib) (1.3.0)\n",
      "Requirement already satisfied: cycler>=0.10 in c:\\users\\vedan\\appdata\\local\\programs\\python\\python312\\lib\\site-packages (from matplotlib) (0.12.1)\n",
      "Requirement already satisfied: fonttools>=4.22.0 in c:\\users\\vedan\\appdata\\local\\programs\\python\\python312\\lib\\site-packages (from matplotlib) (4.54.1)\n",
      "Requirement already satisfied: kiwisolver>=1.3.1 in c:\\users\\vedan\\appdata\\local\\programs\\python\\python312\\lib\\site-packages (from matplotlib) (1.4.7)\n",
      "Requirement already satisfied: numpy>=1.23 in c:\\users\\vedan\\appdata\\local\\programs\\python\\python312\\lib\\site-packages (from matplotlib) (1.26.4)\n",
      "Requirement already satisfied: packaging>=20.0 in c:\\users\\vedan\\appdata\\local\\programs\\python\\python312\\lib\\site-packages (from matplotlib) (24.1)\n",
      "Requirement already satisfied: pillow>=8 in c:\\users\\vedan\\appdata\\local\\programs\\python\\python312\\lib\\site-packages (from matplotlib) (10.4.0)\n",
      "Requirement already satisfied: pyparsing>=2.3.1 in c:\\users\\vedan\\appdata\\local\\programs\\python\\python312\\lib\\site-packages (from matplotlib) (3.1.4)\n",
      "Requirement already satisfied: python-dateutil>=2.7 in c:\\users\\vedan\\appdata\\local\\programs\\python\\python312\\lib\\site-packages (from matplotlib) (2.9.0.post0)\n",
      "Requirement already satisfied: six>=1.5 in c:\\users\\vedan\\appdata\\local\\programs\\python\\python312\\lib\\site-packages (from python-dateutil>=2.7->matplotlib) (1.16.0)\n"
     ]
    },
    {
     "name": "stderr",
     "output_type": "stream",
     "text": [
      "WARNING: Ignoring invalid distribution ~cipy (C:\\Users\\vedan\\AppData\\Local\\Programs\\Python\\Python312\\Lib\\site-packages)\n",
      "WARNING: Ignoring invalid distribution ~cipy (C:\\Users\\vedan\\AppData\\Local\\Programs\\Python\\Python312\\Lib\\site-packages)\n",
      "WARNING: Ignoring invalid distribution ~cipy (C:\\Users\\vedan\\AppData\\Local\\Programs\\Python\\Python312\\Lib\\site-packages)\n",
      "\n",
      "[notice] A new release of pip is available: 24.2 -> 25.1.1\n",
      "[notice] To update, run: python.exe -m pip install --upgrade pip\n"
     ]
    },
    {
     "name": "stdout",
     "output_type": "stream",
     "text": [
      "Collecting gensim\n",
      "  Downloading gensim-4.3.3-cp312-cp312-win_amd64.whl.metadata (8.2 kB)\n",
      "Requirement already satisfied: numpy<2.0,>=1.18.5 in c:\\users\\vedan\\appdata\\local\\programs\\python\\python312\\lib\\site-packages (from gensim) (1.26.4)\n",
      "Collecting scipy<1.14.0,>=1.7.0 (from gensim)\n",
      "  Downloading scipy-1.13.1-cp312-cp312-win_amd64.whl.metadata (60 kB)\n",
      "Requirement already satisfied: smart-open>=1.8.1 in c:\\users\\vedan\\appdata\\local\\programs\\python\\python312\\lib\\site-packages (from gensim) (7.1.0)\n",
      "Requirement already satisfied: wrapt in c:\\users\\vedan\\appdata\\local\\programs\\python\\python312\\lib\\site-packages (from smart-open>=1.8.1->gensim) (1.16.0)\n",
      "Downloading gensim-4.3.3-cp312-cp312-win_amd64.whl (24.0 MB)\n",
      "   ---------------------------------------- 0.0/24.0 MB ? eta -:--:--\n",
      "   ---------------------------------------- 0.3/24.0 MB ? eta -:--:--\n",
      "    --------------------------------------- 0.5/24.0 MB 1.9 MB/s eta 0:00:13\n",
      "   - -------------------------------------- 0.8/24.0 MB 1.5 MB/s eta 0:00:16\n",
      "   - -------------------------------------- 1.0/24.0 MB 1.4 MB/s eta 0:00:17\n",
      "   -- ------------------------------------- 1.3/24.0 MB 1.2 MB/s eta 0:00:19\n",
      "   -- ------------------------------------- 1.3/24.0 MB 1.2 MB/s eta 0:00:19\n",
      "   -- ------------------------------------- 1.6/24.0 MB 1.1 MB/s eta 0:00:21\n",
      "   -- ------------------------------------- 1.6/24.0 MB 1.1 MB/s eta 0:00:21\n",
      "   --- ------------------------------------ 2.1/24.0 MB 1.1 MB/s eta 0:00:21\n",
      "   --- ------------------------------------ 2.4/24.0 MB 1.1 MB/s eta 0:00:20\n",
      "   --- ------------------------------------ 2.4/24.0 MB 1.1 MB/s eta 0:00:20\n",
      "   ---- ----------------------------------- 2.6/24.0 MB 1.1 MB/s eta 0:00:21\n",
      "   ---- ----------------------------------- 2.9/24.0 MB 1.0 MB/s eta 0:00:21\n",
      "   ----- ---------------------------------- 3.1/24.0 MB 1.0 MB/s eta 0:00:20\n",
      "   ----- ---------------------------------- 3.1/24.0 MB 1.0 MB/s eta 0:00:20\n",
      "   ----- ---------------------------------- 3.1/24.0 MB 1.0 MB/s eta 0:00:20\n",
      "   ------ --------------------------------- 3.7/24.0 MB 1.0 MB/s eta 0:00:20\n",
      "   ------ --------------------------------- 3.9/24.0 MB 1.0 MB/s eta 0:00:20\n",
      "   ------ --------------------------------- 3.9/24.0 MB 1.0 MB/s eta 0:00:20\n",
      "   ------ --------------------------------- 3.9/24.0 MB 1.0 MB/s eta 0:00:20\n",
      "   ------ --------------------------------- 3.9/24.0 MB 1.0 MB/s eta 0:00:20\n",
      "   ------ --------------------------------- 4.2/24.0 MB 895.5 kB/s eta 0:00:23\n",
      "   ------- -------------------------------- 4.5/24.0 MB 938.5 kB/s eta 0:00:21\n",
      "   ------- -------------------------------- 4.5/24.0 MB 938.5 kB/s eta 0:00:21\n",
      "   ------- -------------------------------- 4.7/24.0 MB 896.9 kB/s eta 0:00:22\n",
      "   ------- -------------------------------- 4.7/24.0 MB 896.9 kB/s eta 0:00:22\n",
      "   -------- ------------------------------- 5.0/24.0 MB 857.9 kB/s eta 0:00:23\n",
      "   -------- ------------------------------- 5.0/24.0 MB 857.9 kB/s eta 0:00:23\n",
      "   -------- ------------------------------- 5.2/24.0 MB 859.2 kB/s eta 0:00:22\n",
      "   -------- ------------------------------- 5.2/24.0 MB 859.2 kB/s eta 0:00:22\n",
      "   --------- ------------------------------ 5.5/24.0 MB 849.5 kB/s eta 0:00:22\n",
      "   --------- ------------------------------ 5.5/24.0 MB 849.5 kB/s eta 0:00:22\n",
      "   --------- ------------------------------ 5.8/24.0 MB 834.9 kB/s eta 0:00:22\n",
      "   --------- ------------------------------ 5.8/24.0 MB 834.9 kB/s eta 0:00:22\n",
      "   --------- ------------------------------ 5.8/24.0 MB 834.9 kB/s eta 0:00:22\n",
      "   ---------- ----------------------------- 6.0/24.0 MB 793.7 kB/s eta 0:00:23\n",
      "   ---------- ----------------------------- 6.0/24.0 MB 793.7 kB/s eta 0:00:23\n",
      "   ---------- ----------------------------- 6.0/24.0 MB 793.7 kB/s eta 0:00:23\n",
      "   ---------- ----------------------------- 6.0/24.0 MB 793.7 kB/s eta 0:00:23\n",
      "   ---------- ----------------------------- 6.3/24.0 MB 755.2 kB/s eta 0:00:24\n",
      "   ---------- ----------------------------- 6.6/24.0 MB 749.8 kB/s eta 0:00:24\n",
      "   ---------- ----------------------------- 6.6/24.0 MB 749.8 kB/s eta 0:00:24\n",
      "   ----------- ---------------------------- 6.8/24.0 MB 761.2 kB/s eta 0:00:23\n",
      "   ----------- ---------------------------- 7.1/24.0 MB 763.9 kB/s eta 0:00:23\n",
      "   ----------- ---------------------------- 7.1/24.0 MB 763.9 kB/s eta 0:00:23\n",
      "   ------------ --------------------------- 7.3/24.0 MB 758.8 kB/s eta 0:00:22\n",
      "   ------------ --------------------------- 7.6/24.0 MB 765.1 kB/s eta 0:00:22\n",
      "   ------------- -------------------------- 7.9/24.0 MB 773.5 kB/s eta 0:00:21\n",
      "   ------------- -------------------------- 7.9/24.0 MB 773.5 kB/s eta 0:00:21\n",
      "   ------------- -------------------------- 8.1/24.0 MB 781.6 kB/s eta 0:00:21\n",
      "   ------------- -------------------------- 8.4/24.0 MB 790.4 kB/s eta 0:00:20\n",
      "   -------------- ------------------------- 8.7/24.0 MB 800.1 kB/s eta 0:00:20\n",
      "   -------------- ------------------------- 8.9/24.0 MB 800.1 kB/s eta 0:00:19\n",
      "   --------------- ------------------------ 9.2/24.0 MB 809.1 kB/s eta 0:00:19\n",
      "   --------------- ------------------------ 9.2/24.0 MB 809.1 kB/s eta 0:00:19\n",
      "   --------------- ------------------------ 9.4/24.0 MB 807.7 kB/s eta 0:00:19\n",
      "   --------------- ------------------------ 9.4/24.0 MB 807.7 kB/s eta 0:00:19\n",
      "   ---------------- ----------------------- 9.7/24.0 MB 794.7 kB/s eta 0:00:19\n",
      "   ---------------- ----------------------- 9.7/24.0 MB 794.7 kB/s eta 0:00:19\n",
      "   ---------------- ----------------------- 9.7/24.0 MB 794.7 kB/s eta 0:00:19\n",
      "   ---------------- ----------------------- 10.0/24.0 MB 784.8 kB/s eta 0:00:18\n",
      "   ----------------- ---------------------- 10.2/24.0 MB 793.0 kB/s eta 0:00:18\n",
      "   ----------------- ---------------------- 10.5/24.0 MB 800.8 kB/s eta 0:00:17\n",
      "   ------------------ --------------------- 11.0/24.0 MB 820.8 kB/s eta 0:00:16\n",
      "   ------------------ --------------------- 11.3/24.0 MB 827.1 kB/s eta 0:00:16\n",
      "   ------------------- -------------------- 11.5/24.0 MB 832.1 kB/s eta 0:00:15\n",
      "   ------------------- -------------------- 11.5/24.0 MB 832.1 kB/s eta 0:00:15\n",
      "   ------------------- -------------------- 11.8/24.0 MB 833.2 kB/s eta 0:00:15\n",
      "   -------------------- ------------------- 12.1/24.0 MB 833.3 kB/s eta 0:00:15\n",
      "   -------------------- ------------------- 12.1/24.0 MB 833.3 kB/s eta 0:00:15\n",
      "   -------------------- ------------------- 12.3/24.0 MB 833.4 kB/s eta 0:00:15\n",
      "   -------------------- ------------------- 12.3/24.0 MB 833.4 kB/s eta 0:00:15\n",
      "   -------------------- ------------------- 12.3/24.0 MB 833.4 kB/s eta 0:00:15\n",
      "   -------------------- ------------------- 12.3/24.0 MB 833.4 kB/s eta 0:00:15\n",
      "   -------------------- ------------------- 12.6/24.0 MB 809.6 kB/s eta 0:00:15\n",
      "   -------------------- ------------------- 12.6/24.0 MB 809.6 kB/s eta 0:00:15\n",
      "   --------------------- ------------------ 12.8/24.0 MB 802.1 kB/s eta 0:00:14\n",
      "   --------------------- ------------------ 13.1/24.0 MB 801.3 kB/s eta 0:00:14\n",
      "   --------------------- ------------------ 13.1/24.0 MB 801.3 kB/s eta 0:00:14\n",
      "   ---------------------- ----------------- 13.4/24.0 MB 799.7 kB/s eta 0:00:14\n",
      "   ---------------------- ----------------- 13.4/24.0 MB 799.7 kB/s eta 0:00:14\n",
      "   ---------------------- ----------------- 13.6/24.0 MB 795.9 kB/s eta 0:00:14\n",
      "   ---------------------- ----------------- 13.6/24.0 MB 795.9 kB/s eta 0:00:14\n",
      "   ---------------------- ----------------- 13.6/24.0 MB 795.9 kB/s eta 0:00:14\n",
      "   ----------------------- ---------------- 13.9/24.0 MB 786.7 kB/s eta 0:00:13\n",
      "   ----------------------- ---------------- 13.9/24.0 MB 786.7 kB/s eta 0:00:13\n",
      "   ----------------------- ---------------- 14.2/24.0 MB 780.0 kB/s eta 0:00:13\n",
      "   ----------------------- ---------------- 14.2/24.0 MB 780.0 kB/s eta 0:00:13\n",
      "   ------------------------ --------------- 14.4/24.0 MB 780.3 kB/s eta 0:00:13\n",
      "   ------------------------ --------------- 14.7/24.0 MB 782.0 kB/s eta 0:00:12\n",
      "   ------------------------ --------------- 14.7/24.0 MB 782.0 kB/s eta 0:00:12\n",
      "   ------------------------ --------------- 14.9/24.0 MB 781.0 kB/s eta 0:00:12\n",
      "   ------------------------- -------------- 15.2/24.0 MB 782.6 kB/s eta 0:00:12\n",
      "   ------------------------- -------------- 15.2/24.0 MB 782.6 kB/s eta 0:00:12\n",
      "   ------------------------- -------------- 15.5/24.0 MB 786.6 kB/s eta 0:00:11\n",
      "   -------------------------- ------------- 15.7/24.0 MB 784.3 kB/s eta 0:00:11\n",
      "   -------------------------- ------------- 15.7/24.0 MB 784.3 kB/s eta 0:00:11\n",
      "   -------------------------- ------------- 16.0/24.0 MB 783.4 kB/s eta 0:00:11\n",
      "   -------------------------- ------------- 16.0/24.0 MB 783.4 kB/s eta 0:00:11\n",
      "   --------------------------- ------------ 16.3/24.0 MB 783.6 kB/s eta 0:00:10\n",
      "   --------------------------- ------------ 16.5/24.0 MB 783.9 kB/s eta 0:00:10\n",
      "   --------------------------- ------------ 16.5/24.0 MB 783.9 kB/s eta 0:00:10\n",
      "   --------------------------- ------------ 16.8/24.0 MB 784.1 kB/s eta 0:00:10\n",
      "   ---------------------------- ----------- 17.0/24.0 MB 787.2 kB/s eta 0:00:09\n",
      "   ---------------------------- ----------- 17.0/24.0 MB 787.2 kB/s eta 0:00:09\n",
      "   ---------------------------- ----------- 17.3/24.0 MB 787.9 kB/s eta 0:00:09\n",
      "   ----------------------------- ---------- 17.6/24.0 MB 789.2 kB/s eta 0:00:09\n",
      "   ----------------------------- ---------- 17.6/24.0 MB 789.2 kB/s eta 0:00:09\n",
      "   ----------------------------- ---------- 17.6/24.0 MB 789.2 kB/s eta 0:00:09\n",
      "   ----------------------------- ---------- 17.8/24.0 MB 779.0 kB/s eta 0:00:08\n",
      "   ----------------------------- ---------- 17.8/24.0 MB 779.0 kB/s eta 0:00:08\n",
      "   ----------------------------- ---------- 17.8/24.0 MB 779.0 kB/s eta 0:00:08\n",
      "   ----------------------------- ---------- 17.8/24.0 MB 779.0 kB/s eta 0:00:08\n",
      "   ------------------------------ --------- 18.1/24.0 MB 766.2 kB/s eta 0:00:08\n",
      "   ------------------------------ --------- 18.1/24.0 MB 766.2 kB/s eta 0:00:08\n",
      "   ------------------------------ --------- 18.4/24.0 MB 761.1 kB/s eta 0:00:08\n",
      "   ------------------------------ --------- 18.4/24.0 MB 761.1 kB/s eta 0:00:08\n",
      "   ------------------------------- -------- 18.6/24.0 MB 760.1 kB/s eta 0:00:08\n",
      "   ------------------------------- -------- 18.9/24.0 MB 762.1 kB/s eta 0:00:07\n",
      "   ------------------------------- -------- 18.9/24.0 MB 762.1 kB/s eta 0:00:07\n",
      "   ------------------------------- -------- 19.1/24.0 MB 763.6 kB/s eta 0:00:07\n",
      "   -------------------------------- ------- 19.4/24.0 MB 764.5 kB/s eta 0:00:07\n",
      "   -------------------------------- ------- 19.4/24.0 MB 764.5 kB/s eta 0:00:07\n",
      "   -------------------------------- ------- 19.7/24.0 MB 765.4 kB/s eta 0:00:06\n",
      "   --------------------------------- ------ 19.9/24.0 MB 765.8 kB/s eta 0:00:06\n",
      "   --------------------------------- ------ 19.9/24.0 MB 765.8 kB/s eta 0:00:06\n",
      "   --------------------------------- ------ 20.2/24.0 MB 767.7 kB/s eta 0:00:05\n",
      "   ---------------------------------- ----- 20.4/24.0 MB 767.1 kB/s eta 0:00:05\n",
      "   ---------------------------------- ----- 20.4/24.0 MB 767.1 kB/s eta 0:00:05\n",
      "   ---------------------------------- ----- 20.7/24.0 MB 767.5 kB/s eta 0:00:05\n",
      "   ---------------------------------- ----- 21.0/24.0 MB 771.0 kB/s eta 0:00:04\n",
      "   ---------------------------------- ----- 21.0/24.0 MB 771.0 kB/s eta 0:00:04\n",
      "   ----------------------------------- ---- 21.2/24.0 MB 768.7 kB/s eta 0:00:04\n",
      "   ----------------------------------- ---- 21.2/24.0 MB 768.7 kB/s eta 0:00:04\n",
      "   ----------------------------------- ---- 21.5/24.0 MB 769.5 kB/s eta 0:00:04\n",
      "   ------------------------------------ --- 21.8/24.0 MB 769.0 kB/s eta 0:00:03\n",
      "   ------------------------------------ --- 22.0/24.0 MB 771.9 kB/s eta 0:00:03\n",
      "   ------------------------------------- -- 22.3/24.0 MB 776.5 kB/s eta 0:00:03\n",
      "   ------------------------------------- -- 22.5/24.0 MB 782.7 kB/s eta 0:00:02\n",
      "   ------------------------------------- -- 22.8/24.0 MB 786.3 kB/s eta 0:00:02\n",
      "   -------------------------------------- - 23.1/24.0 MB 788.6 kB/s eta 0:00:02\n",
      "   ---------------------------------------  23.6/24.0 MB 797.6 kB/s eta 0:00:01\n",
      "   ---------------------------------------  23.9/24.0 MB 800.6 kB/s eta 0:00:01\n",
      "   ---------------------------------------- 24.0/24.0 MB 802.4 kB/s eta 0:00:00\n",
      "Downloading scipy-1.13.1-cp312-cp312-win_amd64.whl (45.9 MB)\n",
      "   ---------------------------------------- 0.0/45.9 MB ? eta -:--:--\n",
      "   ---------------------------------------- 0.3/45.9 MB ? eta -:--:--\n",
      "   ---------------------------------------- 0.5/45.9 MB 1.3 MB/s eta 0:00:36\n",
      "    --------------------------------------- 0.8/45.9 MB 1.3 MB/s eta 0:00:35\n",
      "    --------------------------------------- 1.0/45.9 MB 1.2 MB/s eta 0:00:37\n",
      "    --------------------------------------- 1.0/45.9 MB 1.2 MB/s eta 0:00:37\n",
      "   - -------------------------------------- 1.3/45.9 MB 1.1 MB/s eta 0:00:40\n",
      "   - -------------------------------------- 1.6/45.9 MB 1.1 MB/s eta 0:00:39\n",
      "   - -------------------------------------- 1.8/45.9 MB 1.1 MB/s eta 0:00:42\n",
      "   - -------------------------------------- 1.8/45.9 MB 1.1 MB/s eta 0:00:42\n",
      "   - -------------------------------------- 2.1/45.9 MB 947.3 kB/s eta 0:00:47\n",
      "   - -------------------------------------- 2.1/45.9 MB 947.3 kB/s eta 0:00:47\n",
      "   - -------------------------------------- 2.1/45.9 MB 947.3 kB/s eta 0:00:47\n",
      "   -- ------------------------------------- 2.4/45.9 MB 844.3 kB/s eta 0:00:52\n",
      "   -- ------------------------------------- 2.6/45.9 MB 857.9 kB/s eta 0:00:51\n",
      "   -- ------------------------------------- 2.9/45.9 MB 907.1 kB/s eta 0:00:48\n",
      "   -- ------------------------------------- 3.1/45.9 MB 951.4 kB/s eta 0:00:45\n",
      "   --- ------------------------------------ 3.7/45.9 MB 1.0 MB/s eta 0:00:42\n",
      "   --- ------------------------------------ 3.9/45.9 MB 1.0 MB/s eta 0:00:41\n",
      "   --- ------------------------------------ 3.9/45.9 MB 1.0 MB/s eta 0:00:41\n",
      "   --- ------------------------------------ 4.2/45.9 MB 1.0 MB/s eta 0:00:41\n",
      "   --- ------------------------------------ 4.5/45.9 MB 1.0 MB/s eta 0:00:42\n",
      "   --- ------------------------------------ 4.5/45.9 MB 1.0 MB/s eta 0:00:42\n",
      "   --- ------------------------------------ 4.5/45.9 MB 1.0 MB/s eta 0:00:42\n",
      "   ---- ----------------------------------- 5.0/45.9 MB 980.6 kB/s eta 0:00:42\n",
      "   ---- ----------------------------------- 5.0/45.9 MB 980.6 kB/s eta 0:00:42\n",
      "   ---- ----------------------------------- 5.2/45.9 MB 971.9 kB/s eta 0:00:42\n",
      "   ---- ----------------------------------- 5.2/45.9 MB 971.9 kB/s eta 0:00:42\n",
      "   ---- ----------------------------------- 5.5/45.9 MB 947.9 kB/s eta 0:00:43\n",
      "   ---- ----------------------------------- 5.5/45.9 MB 947.9 kB/s eta 0:00:43\n",
      "   ---- ----------------------------------- 5.5/45.9 MB 947.9 kB/s eta 0:00:43\n",
      "   ----- ---------------------------------- 5.8/45.9 MB 905.7 kB/s eta 0:00:45\n",
      "   ----- ---------------------------------- 6.0/45.9 MB 893.7 kB/s eta 0:00:45\n",
      "   ----- ---------------------------------- 6.0/45.9 MB 893.7 kB/s eta 0:00:45\n",
      "   ----- ---------------------------------- 6.3/45.9 MB 887.1 kB/s eta 0:00:45\n",
      "   ----- ---------------------------------- 6.6/45.9 MB 890.9 kB/s eta 0:00:45\n",
      "   ----- ---------------------------------- 6.6/45.9 MB 890.9 kB/s eta 0:00:45\n",
      "   ----- ---------------------------------- 6.6/45.9 MB 890.9 kB/s eta 0:00:45\n",
      "   ----- ---------------------------------- 6.6/45.9 MB 890.9 kB/s eta 0:00:45\n",
      "   ----- ---------------------------------- 6.8/45.9 MB 847.4 kB/s eta 0:00:47\n",
      "   ----- ---------------------------------- 6.8/45.9 MB 847.4 kB/s eta 0:00:47\n",
      "   ----- ---------------------------------- 6.8/45.9 MB 847.4 kB/s eta 0:00:47\n",
      "   ------ --------------------------------- 7.1/45.9 MB 813.8 kB/s eta 0:00:48\n",
      "   ------ --------------------------------- 7.3/45.9 MB 820.6 kB/s eta 0:00:48\n",
      "   ------ --------------------------------- 7.6/45.9 MB 834.4 kB/s eta 0:00:46\n",
      "   ------ --------------------------------- 7.9/45.9 MB 843.3 kB/s eta 0:00:46\n",
      "   ------- -------------------------------- 8.1/45.9 MB 853.1 kB/s eta 0:00:45\n",
      "   ------- -------------------------------- 8.4/45.9 MB 858.2 kB/s eta 0:00:44\n",
      "   ------- -------------------------------- 8.4/45.9 MB 858.2 kB/s eta 0:00:44\n",
      "   ------- -------------------------------- 8.7/45.9 MB 848.2 kB/s eta 0:00:44\n",
      "   ------- -------------------------------- 8.7/45.9 MB 848.2 kB/s eta 0:00:44\n",
      "   ------- -------------------------------- 9.2/45.9 MB 857.8 kB/s eta 0:00:43\n",
      "   ------- -------------------------------- 9.2/45.9 MB 857.8 kB/s eta 0:00:43\n",
      "   -------- ------------------------------- 9.4/45.9 MB 862.3 kB/s eta 0:00:43\n",
      "   -------- ------------------------------- 9.7/45.9 MB 860.4 kB/s eta 0:00:43\n",
      "   -------- ------------------------------- 9.7/45.9 MB 860.4 kB/s eta 0:00:43\n",
      "   -------- ------------------------------- 9.7/45.9 MB 860.4 kB/s eta 0:00:43\n",
      "   -------- ------------------------------- 10.0/45.9 MB 843.4 kB/s eta 0:00:43\n",
      "   -------- ------------------------------- 10.0/45.9 MB 843.4 kB/s eta 0:00:43\n",
      "   -------- ------------------------------- 10.2/45.9 MB 836.7 kB/s eta 0:00:43\n",
      "   --------- ------------------------------ 10.5/45.9 MB 837.8 kB/s eta 0:00:43\n",
      "   --------- ------------------------------ 10.5/45.9 MB 837.8 kB/s eta 0:00:43\n",
      "   --------- ------------------------------ 10.7/45.9 MB 832.6 kB/s eta 0:00:43\n",
      "   --------- ------------------------------ 10.7/45.9 MB 832.6 kB/s eta 0:00:43\n",
      "   --------- ------------------------------ 11.0/45.9 MB 818.9 kB/s eta 0:00:43\n",
      "   --------- ------------------------------ 11.0/45.9 MB 818.9 kB/s eta 0:00:43\n",
      "   --------- ------------------------------ 11.3/45.9 MB 819.4 kB/s eta 0:00:43\n",
      "   ---------- ----------------------------- 11.5/45.9 MB 820.8 kB/s eta 0:00:42\n",
      "   ---------- ----------------------------- 11.5/45.9 MB 820.8 kB/s eta 0:00:42\n",
      "   ---------- ----------------------------- 11.8/45.9 MB 820.2 kB/s eta 0:00:42\n",
      "   ---------- ----------------------------- 12.1/45.9 MB 822.4 kB/s eta 0:00:42\n",
      "   ---------- ----------------------------- 12.3/45.9 MB 828.1 kB/s eta 0:00:41\n",
      "   ---------- ----------------------------- 12.6/45.9 MB 832.7 kB/s eta 0:00:41\n",
      "   ---------- ----------------------------- 12.6/45.9 MB 832.7 kB/s eta 0:00:41\n",
      "   ----------- ---------------------------- 12.8/45.9 MB 836.2 kB/s eta 0:00:40\n",
      "   ----------- ---------------------------- 12.8/45.9 MB 836.2 kB/s eta 0:00:40\n",
      "   ----------- ---------------------------- 13.1/45.9 MB 830.4 kB/s eta 0:00:40\n",
      "   ----------- ---------------------------- 13.4/45.9 MB 835.5 kB/s eta 0:00:39\n",
      "   ----------- ---------------------------- 13.4/45.9 MB 835.5 kB/s eta 0:00:39\n",
      "   ----------- ---------------------------- 13.6/45.9 MB 827.5 kB/s eta 0:00:40\n",
      "   ------------ --------------------------- 13.9/45.9 MB 830.1 kB/s eta 0:00:39\n",
      "   ------------ --------------------------- 13.9/45.9 MB 830.1 kB/s eta 0:00:39\n",
      "   ------------ --------------------------- 14.2/45.9 MB 827.1 kB/s eta 0:00:39\n",
      "   ------------ --------------------------- 14.2/45.9 MB 827.1 kB/s eta 0:00:39\n",
      "   ------------ --------------------------- 14.4/45.9 MB 820.6 kB/s eta 0:00:39\n",
      "   ------------ --------------------------- 14.7/45.9 MB 826.1 kB/s eta 0:00:38\n",
      "   ------------ --------------------------- 14.7/45.9 MB 826.1 kB/s eta 0:00:38\n",
      "   ------------- -------------------------- 14.9/45.9 MB 820.6 kB/s eta 0:00:38\n",
      "   ------------- -------------------------- 14.9/45.9 MB 820.6 kB/s eta 0:00:38\n",
      "   ------------- -------------------------- 14.9/45.9 MB 820.6 kB/s eta 0:00:38\n",
      "   ------------- -------------------------- 14.9/45.9 MB 820.6 kB/s eta 0:00:38\n",
      "   ------------- -------------------------- 14.9/45.9 MB 820.6 kB/s eta 0:00:38\n",
      "   ------------- -------------------------- 14.9/45.9 MB 820.6 kB/s eta 0:00:38\n",
      "   ------------- -------------------------- 14.9/45.9 MB 820.6 kB/s eta 0:00:38\n",
      "   ------------- -------------------------- 15.2/45.9 MB 771.2 kB/s eta 0:00:40\n",
      "   ------------- -------------------------- 15.2/45.9 MB 771.2 kB/s eta 0:00:40\n",
      "   ------------- -------------------------- 15.2/45.9 MB 771.2 kB/s eta 0:00:40\n",
      "   ------------- -------------------------- 15.2/45.9 MB 771.2 kB/s eta 0:00:40\n",
      "   ------------- -------------------------- 15.2/45.9 MB 771.2 kB/s eta 0:00:40\n",
      "   ------------- -------------------------- 15.2/45.9 MB 771.2 kB/s eta 0:00:40\n",
      "   ------------- -------------------------- 15.5/45.9 MB 740.0 kB/s eta 0:00:42\n",
      "   ------------- -------------------------- 15.7/45.9 MB 747.1 kB/s eta 0:00:41\n",
      "   ------------- -------------------------- 15.7/45.9 MB 747.1 kB/s eta 0:00:41\n",
      "   ------------- -------------------------- 15.7/45.9 MB 747.1 kB/s eta 0:00:41\n",
      "   ------------- -------------------------- 16.0/45.9 MB 736.9 kB/s eta 0:00:41\n",
      "   ------------- -------------------------- 16.0/45.9 MB 736.9 kB/s eta 0:00:41\n",
      "   -------------- ------------------------- 16.3/45.9 MB 730.0 kB/s eta 0:00:41\n",
      "   -------------- ------------------------- 16.3/45.9 MB 730.0 kB/s eta 0:00:41\n",
      "   -------------- ------------------------- 16.3/45.9 MB 730.0 kB/s eta 0:00:41\n",
      "   -------------- ------------------------- 16.3/45.9 MB 730.0 kB/s eta 0:00:41\n",
      "   -------------- ------------------------- 16.5/45.9 MB 716.9 kB/s eta 0:00:42\n",
      "   -------------- ------------------------- 16.5/45.9 MB 716.9 kB/s eta 0:00:42\n",
      "   -------------- ------------------------- 16.5/45.9 MB 716.9 kB/s eta 0:00:42\n",
      "   -------------- ------------------------- 16.8/45.9 MB 708.0 kB/s eta 0:00:42\n",
      "   -------------- ------------------------- 16.8/45.9 MB 708.0 kB/s eta 0:00:42\n",
      "   -------------- ------------------------- 16.8/45.9 MB 708.0 kB/s eta 0:00:42\n",
      "   -------------- ------------------------- 16.8/45.9 MB 708.0 kB/s eta 0:00:42\n",
      "   -------------- ------------------------- 17.0/45.9 MB 691.4 kB/s eta 0:00:42\n",
      "   -------------- ------------------------- 17.0/45.9 MB 691.4 kB/s eta 0:00:42\n",
      "   -------------- ------------------------- 17.0/45.9 MB 691.4 kB/s eta 0:00:42\n",
      "   -------------- ------------------------- 17.0/45.9 MB 691.4 kB/s eta 0:00:42\n",
      "   -------------- ------------------------- 17.0/45.9 MB 691.4 kB/s eta 0:00:42\n",
      "   -------------- ------------------------- 17.0/45.9 MB 691.4 kB/s eta 0:00:42\n",
      "   -------------- ------------------------- 17.0/45.9 MB 691.4 kB/s eta 0:00:42\n",
      "   -------------- ------------------------- 17.0/45.9 MB 691.4 kB/s eta 0:00:42\n",
      "   -------------- ------------------------- 17.0/45.9 MB 691.4 kB/s eta 0:00:42\n",
      "   --------------- ------------------------ 17.3/45.9 MB 652.6 kB/s eta 0:00:44\n",
      "   --------------- ------------------------ 17.3/45.9 MB 652.6 kB/s eta 0:00:44\n",
      "   --------------- ------------------------ 17.3/45.9 MB 652.6 kB/s eta 0:00:44\n",
      "   --------------- ------------------------ 17.6/45.9 MB 650.6 kB/s eta 0:00:44\n",
      "   --------------- ------------------------ 17.6/45.9 MB 650.6 kB/s eta 0:00:44\n",
      "   --------------- ------------------------ 17.6/45.9 MB 650.6 kB/s eta 0:00:44\n",
      "   --------------- ------------------------ 17.8/45.9 MB 644.5 kB/s eta 0:00:44\n",
      "   --------------- ------------------------ 17.8/45.9 MB 644.5 kB/s eta 0:00:44\n",
      "   --------------- ------------------------ 18.1/45.9 MB 640.2 kB/s eta 0:00:44\n",
      "   --------------- ------------------------ 18.1/45.9 MB 640.2 kB/s eta 0:00:44\n",
      "   --------------- ------------------------ 18.1/45.9 MB 640.2 kB/s eta 0:00:44\n",
      "   --------------- ------------------------ 18.4/45.9 MB 636.8 kB/s eta 0:00:44\n",
      "   --------------- ------------------------ 18.4/45.9 MB 636.8 kB/s eta 0:00:44\n",
      "   --------------- ------------------------ 18.4/45.9 MB 636.8 kB/s eta 0:00:44\n",
      "   ---------------- ----------------------- 18.6/45.9 MB 631.1 kB/s eta 0:00:44\n",
      "   ---------------- ----------------------- 18.6/45.9 MB 631.1 kB/s eta 0:00:44\n",
      "   ---------------- ----------------------- 18.6/45.9 MB 631.1 kB/s eta 0:00:44\n",
      "   ---------------- ----------------------- 18.6/45.9 MB 631.1 kB/s eta 0:00:44\n",
      "   ---------------- ----------------------- 18.6/45.9 MB 631.1 kB/s eta 0:00:44\n",
      "   ---------------- ----------------------- 18.9/45.9 MB 620.7 kB/s eta 0:00:44\n",
      "   ---------------- ----------------------- 18.9/45.9 MB 620.7 kB/s eta 0:00:44\n",
      "   ---------------- ----------------------- 18.9/45.9 MB 620.7 kB/s eta 0:00:44\n",
      "   ---------------- ----------------------- 18.9/45.9 MB 620.7 kB/s eta 0:00:44\n",
      "   ---------------- ----------------------- 19.1/45.9 MB 595.4 kB/s eta 0:00:45\n",
      "   ---------------- ----------------------- 19.1/45.9 MB 595.4 kB/s eta 0:00:45\n",
      "   ---------------- ----------------------- 19.1/45.9 MB 595.4 kB/s eta 0:00:45\n",
      "   ---------------- ----------------------- 19.1/45.9 MB 595.4 kB/s eta 0:00:45\n",
      "   ---------------- ----------------------- 19.4/45.9 MB 578.5 kB/s eta 0:00:46\n",
      "   ---------------- ----------------------- 19.4/45.9 MB 578.5 kB/s eta 0:00:46\n",
      "   ----------------- ---------------------- 19.7/45.9 MB 581.6 kB/s eta 0:00:46\n",
      "   ----------------- ---------------------- 19.7/45.9 MB 581.6 kB/s eta 0:00:46\n",
      "   ----------------- ---------------------- 19.7/45.9 MB 581.6 kB/s eta 0:00:46\n",
      "   ----------------- ---------------------- 19.9/45.9 MB 577.0 kB/s eta 0:00:46\n",
      "   ----------------- ---------------------- 19.9/45.9 MB 577.0 kB/s eta 0:00:46\n",
      "   ----------------- ---------------------- 20.2/45.9 MB 553.1 kB/s eta 0:00:47\n",
      "   ----------------- ---------------------- 20.2/45.9 MB 553.1 kB/s eta 0:00:47\n",
      "   ----------------- ---------------------- 20.4/45.9 MB 544.6 kB/s eta 0:00:47\n",
      "   ------------------ --------------------- 20.7/45.9 MB 546.3 kB/s eta 0:00:47\n",
      "   ------------------ --------------------- 21.0/45.9 MB 551.7 kB/s eta 0:00:46\n",
      "   ------------------ --------------------- 21.2/45.9 MB 558.6 kB/s eta 0:00:45\n",
      "   ------------------ --------------------- 21.5/45.9 MB 564.5 kB/s eta 0:00:44\n",
      "   ------------------- -------------------- 22.0/45.9 MB 568.9 kB/s eta 0:00:42\n",
      "   ------------------- -------------------- 22.3/45.9 MB 571.8 kB/s eta 0:00:42\n",
      "   ------------------- -------------------- 22.5/45.9 MB 577.6 kB/s eta 0:00:41\n",
      "   ------------------- -------------------- 22.8/45.9 MB 581.6 kB/s eta 0:00:40\n",
      "   -------------------- ------------------- 23.1/45.9 MB 587.6 kB/s eta 0:00:39\n",
      "   -------------------- ------------------- 23.3/45.9 MB 593.8 kB/s eta 0:00:39\n",
      "   -------------------- ------------------- 23.9/45.9 MB 605.1 kB/s eta 0:00:37\n",
      "   --------------------- ------------------ 24.1/45.9 MB 608.3 kB/s eta 0:00:36\n",
      "   --------------------- ------------------ 24.4/45.9 MB 613.3 kB/s eta 0:00:36\n",
      "   --------------------- ------------------ 24.6/45.9 MB 616.5 kB/s eta 0:00:35\n",
      "   --------------------- ------------------ 24.9/45.9 MB 621.7 kB/s eta 0:00:34\n",
      "   --------------------- ------------------ 25.2/45.9 MB 622.0 kB/s eta 0:00:34\n",
      "   ---------------------- ----------------- 25.4/45.9 MB 631.9 kB/s eta 0:00:33\n",
      "   ---------------------- ----------------- 25.7/45.9 MB 636.8 kB/s eta 0:00:32\n",
      "   ---------------------- ----------------- 26.0/45.9 MB 641.6 kB/s eta 0:00:32\n",
      "   ---------------------- ----------------- 26.2/45.9 MB 647.6 kB/s eta 0:00:31\n",
      "   ----------------------- ---------------- 26.5/45.9 MB 657.2 kB/s eta 0:00:30\n",
      "   ----------------------- ---------------- 26.7/45.9 MB 661.6 kB/s eta 0:00:29\n",
      "   ----------------------- ---------------- 27.0/45.9 MB 664.1 kB/s eta 0:00:29\n",
      "   ----------------------- ---------------- 27.3/45.9 MB 664.5 kB/s eta 0:00:29\n",
      "   ----------------------- ---------------- 27.5/45.9 MB 658.4 kB/s eta 0:00:28\n",
      "   ----------------------- ---------------- 27.5/45.9 MB 658.4 kB/s eta 0:00:28\n",
      "   ------------------------ --------------- 27.8/45.9 MB 658.1 kB/s eta 0:00:28\n",
      "   ------------------------ --------------- 28.3/45.9 MB 664.0 kB/s eta 0:00:27\n",
      "   ------------------------ --------------- 28.6/45.9 MB 668.6 kB/s eta 0:00:26\n",
      "   ------------------------- -------------- 28.8/45.9 MB 673.9 kB/s eta 0:00:26\n",
      "   ------------------------- -------------- 29.1/45.9 MB 676.7 kB/s eta 0:00:25\n",
      "   ------------------------- -------------- 29.4/45.9 MB 682.6 kB/s eta 0:00:25\n",
      "   ------------------------- -------------- 29.6/45.9 MB 677.4 kB/s eta 0:00:25\n",
      "   ------------------------- -------------- 29.6/45.9 MB 677.4 kB/s eta 0:00:25\n",
      "   -------------------------- ------------- 30.1/45.9 MB 684.4 kB/s eta 0:00:24\n",
      "   -------------------------- ------------- 30.4/45.9 MB 692.0 kB/s eta 0:00:23\n",
      "   -------------------------- ------------- 30.7/45.9 MB 693.2 kB/s eta 0:00:22\n",
      "   -------------------------- ------------- 30.7/45.9 MB 693.2 kB/s eta 0:00:22\n",
      "   --------------------------- ------------ 31.2/45.9 MB 704.2 kB/s eta 0:00:21\n",
      "   --------------------------- ------------ 31.7/45.9 MB 713.4 kB/s eta 0:00:20\n",
      "   --------------------------- ------------ 32.0/45.9 MB 718.0 kB/s eta 0:00:20\n",
      "   ---------------------------- ----------- 32.2/45.9 MB 722.5 kB/s eta 0:00:19\n",
      "   ---------------------------- ----------- 32.5/45.9 MB 727.2 kB/s eta 0:00:19\n",
      "   ---------------------------- ----------- 32.8/45.9 MB 735.2 kB/s eta 0:00:18\n",
      "   ---------------------------- ----------- 33.0/45.9 MB 739.4 kB/s eta 0:00:18\n",
      "   ----------------------------- ---------- 33.3/45.9 MB 743.5 kB/s eta 0:00:17\n",
      "   ----------------------------- ---------- 33.6/45.9 MB 746.6 kB/s eta 0:00:17\n",
      "   ----------------------------- ---------- 33.8/45.9 MB 749.4 kB/s eta 0:00:17\n",
      "   ----------------------------- ---------- 34.1/45.9 MB 753.0 kB/s eta 0:00:16\n",
      "   ------------------------------ --------- 34.6/45.9 MB 761.0 kB/s eta 0:00:15\n",
      "   ------------------------------ --------- 34.9/45.9 MB 764.6 kB/s eta 0:00:15\n",
      "   ------------------------------ --------- 35.1/45.9 MB 769.0 kB/s eta 0:00:15\n",
      "   ------------------------------ --------- 35.4/45.9 MB 769.0 kB/s eta 0:00:14\n",
      "   ------------------------------- -------- 35.7/45.9 MB 770.2 kB/s eta 0:00:14\n",
      "   ------------------------------- -------- 35.9/45.9 MB 772.2 kB/s eta 0:00:13\n",
      "   ------------------------------- -------- 36.2/45.9 MB 778.7 kB/s eta 0:00:13\n",
      "   ------------------------------- -------- 36.4/45.9 MB 779.7 kB/s eta 0:00:13\n",
      "   ------------------------------- -------- 36.7/45.9 MB 778.5 kB/s eta 0:00:12\n",
      "   -------------------------------- ------- 37.0/45.9 MB 785.9 kB/s eta 0:00:12\n",
      "   -------------------------------- ------- 37.0/45.9 MB 785.9 kB/s eta 0:00:12\n",
      "   -------------------------------- ------- 37.5/45.9 MB 788.5 kB/s eta 0:00:11\n",
      "   -------------------------------- ------- 37.7/45.9 MB 794.7 kB/s eta 0:00:11\n",
      "   --------------------------------- ------ 38.0/45.9 MB 798.9 kB/s eta 0:00:10\n",
      "   --------------------------------- ------ 38.5/45.9 MB 812.8 kB/s eta 0:00:10\n",
      "   --------------------------------- ------ 38.8/45.9 MB 818.2 kB/s eta 0:00:09\n",
      "   ---------------------------------- ----- 39.3/45.9 MB 825.7 kB/s eta 0:00:08\n",
      "   ---------------------------------- ----- 39.6/45.9 MB 832.2 kB/s eta 0:00:08\n",
      "   ---------------------------------- ----- 40.1/45.9 MB 842.8 kB/s eta 0:00:07\n",
      "   ----------------------------------- ---- 40.4/45.9 MB 881.1 kB/s eta 0:00:07\n",
      "   ----------------------------------- ---- 40.6/45.9 MB 884.0 kB/s eta 0:00:06\n",
      "   ----------------------------------- ---- 40.9/45.9 MB 887.3 kB/s eta 0:00:06\n",
      "   ----------------------------------- ---- 41.2/45.9 MB 891.1 kB/s eta 0:00:06\n",
      "   ------------------------------------ --- 41.4/45.9 MB 894.8 kB/s eta 0:00:06\n",
      "   ------------------------------------ --- 41.7/45.9 MB 895.1 kB/s eta 0:00:05\n",
      "   ------------------------------------ --- 41.9/45.9 MB 898.3 kB/s eta 0:00:05\n",
      "   ------------------------------------ --- 42.2/45.9 MB 927.0 kB/s eta 0:00:04\n",
      "   ------------------------------------ --- 42.2/45.9 MB 927.0 kB/s eta 0:00:04\n",
      "   ------------------------------------ --- 42.2/45.9 MB 927.0 kB/s eta 0:00:04\n",
      "   ------------------------------------ --- 42.2/45.9 MB 927.0 kB/s eta 0:00:04\n",
      "   ------------------------------------ --- 42.2/45.9 MB 927.0 kB/s eta 0:00:04\n",
      "   ------------------------------------ --- 42.2/45.9 MB 927.0 kB/s eta 0:00:04\n",
      "   ------------------------------------- -- 42.7/45.9 MB 902.9 kB/s eta 0:00:04\n",
      "   ------------------------------------- -- 43.3/45.9 MB 921.7 kB/s eta 0:00:03\n",
      "   ------------------------------------- -- 43.5/45.9 MB 925.2 kB/s eta 0:00:03\n",
      "   -------------------------------------- - 43.8/45.9 MB 929.6 kB/s eta 0:00:03\n",
      "   -------------------------------------- - 44.3/45.9 MB 946.8 kB/s eta 0:00:02\n",
      "   -------------------------------------- - 44.6/45.9 MB 951.1 kB/s eta 0:00:02\n",
      "   ---------------------------------------  44.8/45.9 MB 954.0 kB/s eta 0:00:02\n",
      "   ---------------------------------------  45.1/45.9 MB 973.3 kB/s eta 0:00:01\n",
      "   ---------------------------------------  45.6/45.9 MB 979.1 kB/s eta 0:00:01\n",
      "   ---------------------------------------  45.9/45.9 MB 983.3 kB/s eta 0:00:01\n",
      "   ---------------------------------------- 45.9/45.9 MB 981.4 kB/s eta 0:00:00\n",
      "Installing collected packages: scipy, gensim\n",
      "  Attempting uninstall: scipy\n",
      "    Found existing installation: scipy 1.14.1\n",
      "    Uninstalling scipy-1.14.1:\n",
      "      Successfully uninstalled scipy-1.14.1\n",
      "Successfully installed gensim-4.3.3 scipy-1.13.1\n"
     ]
    },
    {
     "name": "stderr",
     "output_type": "stream",
     "text": [
      "  WARNING: Failed to remove contents in a temporary directory 'C:\\Users\\vedan\\AppData\\Local\\Programs\\Python\\Python312\\Lib\\site-packages\\~cipy.libs'.\n",
      "  You can safely remove it manually.\n",
      "  WARNING: Failed to remove contents in a temporary directory 'C:\\Users\\vedan\\AppData\\Local\\Programs\\Python\\Python312\\Lib\\site-packages\\~cipy'.\n",
      "  You can safely remove it manually.\n",
      "\n",
      "[notice] A new release of pip is available: 24.2 -> 25.1.1\n",
      "[notice] To update, run: python.exe -m pip install --upgrade pip\n"
     ]
    }
   ],
   "source": [
    "!pip install nltk==3.6.7\n",
    "!pip install gensim\n",
    "!pip install scipy==1.10\n",
    "!pip install pandas\n",
    "!pip install nltk\n",
    "!pip install matplotlib"
   ]
  },
  {
   "cell_type": "code",
   "execution_count": 3,
   "metadata": {},
   "outputs": [
    {
     "name": "stderr",
     "output_type": "stream",
     "text": [
      "ERROR: Could not find a version that satisfies the requirement genism (from versions: none)\n",
      "\n",
      "[notice] A new release of pip is available: 24.2 -> 25.1.1\n",
      "[notice] To update, run: python.exe -m pip install --upgrade pip\n",
      "ERROR: No matching distribution found for genism\n"
     ]
    }
   ],
   "source": [
    "!pip install genism"
   ]
  },
  {
   "cell_type": "code",
   "execution_count": 2,
   "id": "886d137b-cf06-47d5-bace-b3e26a1376ea",
   "metadata": {},
   "outputs": [
    {
     "ename": "ModuleNotFoundError",
     "evalue": "No module named 'gensim'",
     "output_type": "error",
     "traceback": [
      "\u001b[1;31m---------------------------------------------------------------------------\u001b[0m",
      "\u001b[1;31mModuleNotFoundError\u001b[0m                       Traceback (most recent call last)",
      "Cell \u001b[1;32mIn[2], line 1\u001b[0m\n\u001b[1;32m----> 1\u001b[0m \u001b[38;5;28;01mimport\u001b[39;00m \u001b[38;5;21;01mgensim\u001b[39;00m\n\u001b[0;32m      2\u001b[0m \u001b[38;5;28;01mimport\u001b[39;00m \u001b[38;5;21;01mpandas\u001b[39;00m \u001b[38;5;28;01mas\u001b[39;00m \u001b[38;5;21;01mpd\u001b[39;00m\n\u001b[0;32m      3\u001b[0m \u001b[38;5;28;01mimport\u001b[39;00m \u001b[38;5;21;01mnltk\u001b[39;00m \u001b[38;5;28;01mas\u001b[39;00m \u001b[38;5;21;01mnltk\u001b[39;00m\n",
      "\u001b[1;31mModuleNotFoundError\u001b[0m: No module named 'gensim'"
     ]
    }
   ],
   "source": [
    "import gensim\n",
    "import pandas as pd\n",
    "import nltk as nltk\n",
    "from nltk.corpus import stopwords\n",
    "from nltk.tokenize import word_tokenize\n",
    "from gensim import corpora\n",
    "\n",
    "%matplotlib inline"
   ]
  },
  {
   "cell_type": "markdown",
   "id": "5cefcacc-773c-43f5-a19f-fa28d6571e9a",
   "metadata": {},
   "source": [
    "Download stopwords\n"
   ]
  },
  {
   "cell_type": "code",
   "execution_count": null,
   "id": "f46a317e-f8e5-47d9-9386-b27263d222da",
   "metadata": {},
   "outputs": [],
   "source": [
    "nltk.download('punkt')\n",
    "nltk.download('stopwords')\n",
    "nltk.download('averaged_perceptron_tagger')"
   ]
  },
  {
   "cell_type": "code",
   "execution_count": null,
   "id": "5963f193-6200-458b-b1c7-e02bc0c1bd1a",
   "metadata": {},
   "outputs": [],
   "source": [
    "# also set a random state\n",
    "rs = 123"
   ]
  },
  {
   "cell_type": "markdown",
   "id": "20cdab3b-3857-497b-aaa4-fcb5ed21e92b",
   "metadata": {},
   "source": [
    "### Bag of Words (BoW) features\n"
   ]
  },
  {
   "cell_type": "markdown",
   "id": "93c782ef-334d-415c-99b0-8864c3c7cbc2",
   "metadata": {},
   "source": [
    "BoW features are essentially the counts or frequencies of each word that appears in a text (string). Let's illustrate it with some simple examples.\n"
   ]
  },
  {
   "cell_type": "markdown",
   "id": "4954990f-5898-4205-a830-7940da9b65b4",
   "metadata": {},
   "source": [
    "Suppose we have two course descriptions as follows:\n"
   ]
  },
  {
   "cell_type": "code",
   "execution_count": null,
   "id": "f8d54493-1b34-4d67-8c44-db95401e7bc7",
   "metadata": {},
   "outputs": [],
   "source": [
    "course1 = \"this is an introduction data science course which introduces data science to beginners\""
   ]
  },
  {
   "cell_type": "code",
   "execution_count": null,
   "id": "c290fae5-4bf4-43da-a73a-c8ec8d031307",
   "metadata": {},
   "outputs": [],
   "source": [
    "course2 = \"machine learning for beginners\""
   ]
  },
  {
   "cell_type": "code",
   "execution_count": null,
   "id": "2f3136da-d31f-463b-8cb5-66404b54b052",
   "metadata": {},
   "outputs": [],
   "source": [
    "courses = [course1, course2]\n",
    "courses"
   ]
  },
  {
   "cell_type": "markdown",
   "id": "155b2fc7-4e3a-4d54-ad40-e992a5ebe5f6",
   "metadata": {},
   "source": [
    "The first step is to split the two strings into words (tokens). A token in the text processing context means the smallest unit of text such as a word, a symbol/punctuation, or a phrase, etc. The process to transform a string into a collection of tokens is called `tokenization`.\n"
   ]
  },
  {
   "cell_type": "markdown",
   "id": "7a7d49da-997c-43c4-bb11-0746c451a8c7",
   "metadata": {},
   "source": [
    "One common way to do ```tokenization``` is to use the Python built-in `split()` method of the `str` class.  However, in this lab, we want to leverage the `nltk` (Natural Language Toolkit) package, which is probably the most commonly used package to process text or natural language.\n"
   ]
  },
  {
   "cell_type": "markdown",
   "id": "65e14396-130f-4f6a-8a6a-d82050117e75",
   "metadata": {},
   "source": [
    " More specifically, we will use the ```word_tokenize()``` method on the content of course (string):\n"
   ]
  },
  {
   "cell_type": "code",
   "execution_count": null,
   "id": "b23b275e-8171-45aa-bfa5-cb60a3c82630",
   "metadata": {},
   "outputs": [],
   "source": [
    "# Tokenize the two courses\n",
    "tokenized_courses = [word_tokenize(course) for course in courses]"
   ]
  },
  {
   "cell_type": "code",
   "execution_count": null,
   "id": "766f68bd-7af8-49da-83f7-67750aab0768",
   "metadata": {},
   "outputs": [],
   "source": [
    "tokenized_courses"
   ]
  },
  {
   "cell_type": "markdown",
   "id": "7d825e07-8c2c-41da-8dc4-bd082b25bdba",
   "metadata": {},
   "source": [
    "As you can see from the cell output, two courses have been tokenized and turned into two token arrays.\n"
   ]
  },
  {
   "cell_type": "markdown",
   "id": "e16e0c37-b3d0-4c1c-b553-7705313738e1",
   "metadata": {},
   "source": [
    "Next, we want to create a token dictionary to index all tokens. Basically, we want to assign a key/index for each token. One way to index tokens is to use the `gensim` package which is another popular package for processing textual data:\n"
   ]
  },
  {
   "cell_type": "code",
   "execution_count": null,
   "id": "91c7b1d3-b8ed-4ea4-8677-c814c9c46bd8",
   "metadata": {},
   "outputs": [],
   "source": [
    "# Create a token dictionary for the two courses\n",
    "tokens_dict = gensim.corpora.Dictionary(tokenized_courses)"
   ]
  },
  {
   "cell_type": "code",
   "execution_count": null,
   "id": "dac28d8f-268f-40fc-80ed-f80bb9a47f7f",
   "metadata": {},
   "outputs": [],
   "source": [
    "print(tokens_dict.token2id)"
   ]
  },
  {
   "cell_type": "markdown",
   "id": "8b45cab4-2d51-4569-bffa-9607ebdc09c6",
   "metadata": {},
   "source": [
    "With the token dictionary, we can easily count each token in the two example courses and output two BoW feature vectors. However, more conveniently, the `gensim` package provides us a `doc2bow` method to generate BoW features out-of-box.\n"
   ]
  },
  {
   "cell_type": "code",
   "execution_count": null,
   "id": "bd56ad6f-80f5-43c0-ad0b-99d3f5a17222",
   "metadata": {},
   "outputs": [],
   "source": [
    "# Generate BoW features for each course\n",
    "courses_bow = [tokens_dict.doc2bow(course) for course in tokenized_courses]"
   ]
  },
  {
   "cell_type": "code",
   "execution_count": null,
   "id": "18d7beaf-aa3e-4736-b641-b50b4755a710",
   "metadata": {},
   "outputs": [],
   "source": [
    "courses_bow"
   ]
  },
  {
   "cell_type": "markdown",
   "id": "dc69eb01-961b-4b52-b208-e9385d2b7a80",
   "metadata": {},
   "source": [
    "It outputs two BoW arrays where each element is a tuple, e.g., (0, 1) and (7, 2). The first element of the tuple is the token ID and the second element is its count. So `(0, 1)` means `(``an``, 1)` and `(7, 2)` means `(``science``, 2)`.\n"
   ]
  },
  {
   "cell_type": "markdown",
   "id": "d10ee3f2-c9f5-4e4c-bdca-d22db1284d26",
   "metadata": {},
   "source": [
    "We can use the following code snippet to print each token and its count:\n"
   ]
  },
  {
   "cell_type": "code",
   "execution_count": null,
   "id": "886019a2-90c2-4dcf-9fba-f6e6ac915a25",
   "metadata": {},
   "outputs": [],
   "source": [
    "# Enumerate through each course and its bag-of-words representation\n",
    "for course_idx, course_bow in enumerate(courses_bow):\n",
    "    # Print the index of the current course and a label\n",
    "    print(f\"Bag of words for course {course_idx}:\")\n",
    "    # For each token index, print its bow value (word count)\n",
    "    for token_index, token_bow in course_bow:\n",
    "        # Retrieve the token from the tokens dictionary based on its index\n",
    "        token = tokens_dict.get(token_index)\n",
    "        # Print the token and its bag-of-words value\n",
    "        print(f\"--Token: '{token}', Count:{token_bow}\")"
   ]
  },
  {
   "cell_type": "markdown",
   "id": "c19ee6d1-8999-44fb-947a-c9bc0788f798",
   "metadata": {},
   "source": [
    "If we turn to the long list into a horizontal feature vectors, we can see the two courses become two numerical feature vectors:\n"
   ]
  },
  {
   "cell_type": "markdown",
   "id": "3e849873-3849-4a74-aa4b-68c561007584",
   "metadata": {},
   "source": [
    "![](https://cf-courses-data.s3.us.cloud-object-storage.appdomain.cloud/IBM-ML321EN-SkillsNetwork/labs/module_2/images/bow.png)\n"
   ]
  },
  {
   "cell_type": "markdown",
   "id": "a59990d3-72e5-4f15-845d-aefb82ddd4b4",
   "metadata": {},
   "source": [
    "### BoW dimensionality reduction\n"
   ]
  },
  {
   "cell_type": "markdown",
   "id": "0915fe06-4766-47ff-ba34-f5326f2660cb",
   "metadata": {},
   "source": [
    "A document may contain tens of thousands of words which makes the dimension of the BoW feature vector huge. To reduce the dimensionality, one common way is to filter the relatively meaningless tokens such as stop words or sometimes add position and adjective words.\n"
   ]
  },
  {
   "cell_type": "markdown",
   "id": "4f88d3cc-5b57-4e5d-b9d1-92a3efbd042a",
   "metadata": {},
   "source": [
    "We can use the english stop words provided in `nltk`:\n"
   ]
  },
  {
   "cell_type": "code",
   "execution_count": null,
   "id": "6f6500ea-9ac0-4484-bbb3-ebac14e7cbea",
   "metadata": {},
   "outputs": [],
   "source": [
    "stop_words = set(stopwords.words('english'))"
   ]
  },
  {
   "cell_type": "code",
   "execution_count": null,
   "id": "399b3af3-f45a-4c40-a8c8-a1ca49e1fa8c",
   "metadata": {},
   "outputs": [],
   "source": [
    "stop_words"
   ]
  },
  {
   "cell_type": "markdown",
   "id": "34a7a016-ea19-4553-91bc-3b7965a7c7e6",
   "metadata": {},
   "source": [
    "Then we can filter those English stop words from the tokens in course1:\n"
   ]
  },
  {
   "cell_type": "code",
   "execution_count": null,
   "id": "e5591016-d862-481c-aee9-2f3a1e30d7aa",
   "metadata": {},
   "outputs": [],
   "source": [
    "# Tokens in course 1\n",
    "tokenized_courses[0]"
   ]
  },
  {
   "cell_type": "code",
   "execution_count": null,
   "id": "220b256a-f21b-4f50-ad5d-ea12990836e1",
   "metadata": {},
   "outputs": [],
   "source": [
    "processed_tokens = [w for w in tokenized_courses[0] if not w.lower() in stop_words]"
   ]
  },
  {
   "cell_type": "code",
   "execution_count": null,
   "id": "8a57304d-3cce-4b24-a49a-b46ff4e7a38b",
   "metadata": {},
   "outputs": [],
   "source": [
    "processed_tokens"
   ]
  },
  {
   "cell_type": "markdown",
   "id": "84162324-407c-4f73-9e6a-1201197436f8",
   "metadata": {},
   "source": [
    "You can see the number of tokens for ```course1``` has been reduced.\n"
   ]
  },
  {
   "cell_type": "markdown",
   "id": "66916071-e3e9-40b2-ab26-49ac8007eb23",
   "metadata": {},
   "source": [
    "Another common way is to only keep nouns in the text. We can use the `nltk.pos_tag()` method to analyze the part of speech (POS) and annotate each word.\n"
   ]
  },
  {
   "cell_type": "code",
   "execution_count": null,
   "id": "e62890f3-b342-4eb3-9ae2-63f9e51f50a9",
   "metadata": {},
   "outputs": [],
   "source": [
    "tags = nltk.pos_tag(tokenized_courses[0])\n",
    "tags"
   ]
  },
  {
   "cell_type": "markdown",
   "id": "54bf86ac-6d66-4fd2-873a-b89a02940a26",
   "metadata": {},
   "source": [
    "As we can see [`introduction`, `data`, `science`, `course`, `beginners`] are all of the nouns and we may keep them in the BoW feature vector.\n"
   ]
  },
  {
   "cell_type": "markdown",
   "id": "1e902f53-bf93-4ac5-83e0-9a2f020b411c",
   "metadata": {},
   "source": [
    "### TASK: Extract BoW features for course textual content and build a dataset\n"
   ]
  },
  {
   "cell_type": "markdown",
   "id": "981aaabc-c788-4903-8c9d-1c78476799e9",
   "metadata": {},
   "source": [
    "By now you have learned what a BoW feature is, so let's start extracting BoW features from some real course textual content.\n"
   ]
  },
  {
   "cell_type": "code",
   "execution_count": null,
   "id": "3a69a72e-6296-440f-a05a-95379508f398",
   "metadata": {},
   "outputs": [],
   "source": [
    "course_url = \"https://cf-courses-data.s3.us.cloud-object-storage.appdomain.cloud/IBM-ML321EN-SkillsNetwork/labs/datasets/course_processed.csv\"\n",
    "course_content_df = pd.read_csv(course_url)"
   ]
  },
  {
   "cell_type": "code",
   "execution_count": null,
   "id": "c21b7714-901d-4e14-8fc2-05d2eb53d9b1",
   "metadata": {},
   "outputs": [],
   "source": [
    "course_content_df.iloc[0, :]"
   ]
  },
  {
   "cell_type": "markdown",
   "id": "462aafc5-8bfe-4d4d-8958-ab4ee2d4d4a8",
   "metadata": {},
   "source": [
    "The course content dataset has three columns `COURSE_ID`, `TITLE`, and `DESCRIPTION`. `TITLE` and `DESCRIPTION` are all text upon which we want to extract BoW features. \n"
   ]
  },
  {
   "cell_type": "markdown",
   "id": "bfc371e8-3bea-4a47-bd89-152907f585cc",
   "metadata": {},
   "source": [
    "Let's join those two text columns together.\n"
   ]
  },
  {
   "cell_type": "code",
   "execution_count": null,
   "id": "3a08d8ff-cc77-44d7-82fb-125e92dbdd8f",
   "metadata": {},
   "outputs": [],
   "source": [
    "# Merge TITLE and DESCRIPTION title\n",
    "course_content_df['course_texts'] = course_content_df[['TITLE', 'DESCRIPTION']].agg(' '.join, axis=1)\n",
    "course_content_df = course_content_df.reset_index()\n",
    "course_content_df['index'] = course_content_df.index"
   ]
  },
  {
   "cell_type": "code",
   "execution_count": null,
   "id": "53f1ad9f-9de3-4534-b516-40b8a80f6ac2",
   "metadata": {},
   "outputs": [],
   "source": [
    "course_content_df.iloc[0, :]"
   ]
  },
  {
   "cell_type": "markdown",
   "id": "bc05f54f-80ac-4048-b133-6fc4875fd2f3",
   "metadata": {},
   "source": [
    "We have used the `tokenize_course()` method  to tokenize the course content:\n"
   ]
  },
  {
   "cell_type": "code",
   "execution_count": null,
   "id": "9f58ed78-216c-49ab-bad5-c49f23cd0a77",
   "metadata": {},
   "outputs": [],
   "source": [
    "def tokenize_course(course, keep_only_nouns=True):\n",
    "    # Get English stop words\n",
    "    stop_words = set(stopwords.words('english'))\n",
    "    # Tokenize the course text\n",
    "    word_tokens = word_tokenize(course)\n",
    "    # Remove English stop words and numbers\n",
    "    word_tokens = [w for w in word_tokens if (not w.lower() in stop_words) and (not w.isnumeric())]\n",
    "    # Only keep nouns \n",
    "    if keep_only_nouns:\n",
    "        # Define a filter list of non-noun POS tags\n",
    "        filter_list = ['WDT', 'WP', 'WRB', 'FW', 'IN', 'JJR', 'JJS', 'MD', 'PDT', 'POS', 'PRP', 'RB', 'RBR', 'RBS',\n",
    "                       'RP']\n",
    "        # Tag the word tokens with POS tags\n",
    "        tags = nltk.pos_tag(word_tokens)\n",
    "        # Filter out non-nouns based on POS tags\n",
    "        word_tokens = [word for word, pos in tags if pos not in filter_list]\n",
    "\n",
    "    return word_tokens"
   ]
  },
  {
   "cell_type": "markdown",
   "id": "dfa6b1ce-aed4-43e7-9043-ca5b5e83c5ae",
   "metadata": {},
   "source": [
    "Let's try it on the first course.\n"
   ]
  },
  {
   "cell_type": "code",
   "execution_count": null,
   "id": "6669000d-5c86-44bf-9b27-b89c7a3f818b",
   "metadata": {},
   "outputs": [],
   "source": [
    "a_course = course_content_df.iloc[0, :]['course_texts']\n",
    "a_course"
   ]
  },
  {
   "cell_type": "code",
   "execution_count": null,
   "id": "ef40ed67-aa17-4227-8e3c-b1de90a2e034",
   "metadata": {},
   "outputs": [],
   "source": [
    "tokenize_course(a_course)"
   ]
  },
  {
   "cell_type": "markdown",
   "id": "34b3fac3-44a2-4466-bfa1-de99bc77fc9d",
   "metadata": {},
   "source": [
    "Next, you will need to write some code snippets to generate the BoW features for each course. Let's start by tokenzing all courses in the `courses_df`:\n"
   ]
  },
  {
   "cell_type": "markdown",
   "id": "72024375-ff71-4d32-9b48-11b86a84b171",
   "metadata": {},
   "source": [
    "_TODO: Use provided tokenize_course() method to tokenize all courses in courses_df['course_texts']._\n"
   ]
  },
  {
   "cell_type": "code",
   "execution_count": null,
   "id": "c41470f3-5aef-4362-8500-48295e974a6d",
   "metadata": {},
   "outputs": [],
   "source": [
    "# WRITE YOUR CODE HERE\n"
   ]
  },
  {
   "cell_type": "markdown",
   "id": "04cbd226-603e-4fcf-bf3b-2f918c51e560",
   "metadata": {},
   "source": [
    "\n",
    "<details>\n",
    "    <summary>Click here for Hints</summary>\n",
    "\n",
    "Use `tokenize_course(text, True)` command to tokenize each text in `courses_df['course_texts']`\n"
   ]
  },
  {
   "cell_type": "markdown",
   "id": "fca3c0b5-b3ca-42aa-b542-30c3d0bf0fae",
   "metadata": {},
   "source": [
    "Then we need to create a token dictionary `tokens_dict`\n"
   ]
  },
  {
   "cell_type": "markdown",
   "id": "4270d519-f783-4f0c-bff3-803927b902bb",
   "metadata": {},
   "source": [
    "_TODO: Use gensim.corpora.Dictionary(tokenized_courses) to create a token dictionary._\n"
   ]
  },
  {
   "cell_type": "code",
   "execution_count": null,
   "id": "a32730b6-3b4a-452b-810e-3126ca39f5b7",
   "metadata": {},
   "outputs": [],
   "source": [
    "# WRITE YOUR CODE HERE\n"
   ]
  },
  {
   "cell_type": "markdown",
   "id": "ad1d2ad5-3b6a-458c-9542-6dc99c1c5982",
   "metadata": {},
   "source": [
    "Then we can use `doc2bow()` method to generate BoW features for each tokenized course.\n"
   ]
  },
  {
   "cell_type": "markdown",
   "id": "734db2a6-79af-4a7c-bb6f-f7c1ee0bd3f3",
   "metadata": {},
   "source": [
    "_TODO: Use tokens_dict.doc2bow() to generate BoW features for each tokenized course._\n"
   ]
  },
  {
   "cell_type": "code",
   "execution_count": null,
   "id": "3431ad52-e378-45b1-b1c4-c4fd77e8a89c",
   "metadata": {},
   "outputs": [],
   "source": [
    "# WRITE YOUR CODE HERE\n"
   ]
  },
  {
   "cell_type": "markdown",
   "id": "a04fb7da-8d63-4eb8-a55e-6bb9210f4167",
   "metadata": {},
   "source": [
    "<details>\n",
    "    <summary>Click here for Hints</summary>\n",
    "    \n",
    "You can use `tokens_dict.doc2bow(course)` command  for each course in `tokenized_courses`\n"
   ]
  },
  {
   "cell_type": "markdown",
   "id": "10922e17-2fb7-4b99-b0fe-811a6f8aeb6b",
   "metadata": {},
   "source": [
    "Lastly, you need to append the BoW features for each course into a new BoW dataframe. The new dataframe needs to include the following columns (you may include other relevant columns as well):\n",
    "- 'doc_index': the course index starting from 0\n",
    "- 'doc_id': the actual course id such as `ML0201EN`\n",
    "- 'token': the tokens for each course\n",
    "- 'bow': the bow value for each token\n"
   ]
  },
  {
   "cell_type": "markdown",
   "id": "55c91478-5b11-4482-9bfa-e6a4a3726e07",
   "metadata": {},
   "source": [
    "_TODO: Create a new course_bow dataframe based on the extracted BoW features._\n"
   ]
  },
  {
   "cell_type": "code",
   "execution_count": null,
   "id": "a2fe148d-6f4c-4632-8320-3e5e8f19d16e",
   "metadata": {},
   "outputs": [],
   "source": [
    "# WRITE YOUR CODE HERE\n",
    "\n",
    "#  ...\n",
    "#  bow_dicts = {\"doc_index\": doc_indices,\n",
    "#            \"doc_id\": doc_ids,\n",
    "#            \"token\": tokens,\n",
    "#            \"bow\": bow_values}\n",
    "#  pd.DataFrame(bow_dicts)"
   ]
  },
  {
   "cell_type": "markdown",
   "id": "26f82768-65a5-40d1-b093-ac6fcb6ab993",
   "metadata": {},
   "source": [
    "<details>\n",
    "    <summary>Click here for Hints</summary>\n",
    "    \n",
    "You can use 2 for-loops to create your data frame: first one will be `for doc_index, doc_bow in enumerate(bow_docs):` where bow_docs is the list of BoW features for each tokenized course and within this for-loop you will have another loop `for token_index, token_bow in doc_bow:`. Then you can get each \"token\" by applying the `token_index` to your `token_dict`,  `token_bow` will give you \"bow\" values, `doc_indices` will give you values for  \"doc_index\" and you can get \"doc_id\" by using `courses_df['COURSE_ID']` list and `doc_index` as indexes.\n"
   ]
  },
  {
   "cell_type": "markdown",
   "id": "f228853e-f318-4a90-ba39-11cd2a74adc8",
   "metadata": {},
   "source": [
    "Your course BoW dataframe may look like the following:\n"
   ]
  },
  {
   "cell_type": "markdown",
   "id": "281eaed6-36f2-4bf5-86fd-38f3106049e9",
   "metadata": {},
   "source": [
    "![](https://cf-courses-data.s3.us.cloud-object-storage.appdomain.cloud/IBM-ML321EN-SkillsNetwork/labs/module_2/images/bow_dataset.png)\n"
   ]
  },
  {
   "cell_type": "markdown",
   "id": "f708ffa7-7afb-4b9e-8a23-af31598dc340",
   "metadata": {},
   "source": [
    "You may refer to previous code examples in this lab if you need help with creating the BoW dataframe.\n"
   ]
  },
  {
   "cell_type": "markdown",
   "id": "d34de3c8-71b6-4c0e-b911-a62e03a371e6",
   "metadata": {},
   "source": [
    "### Other popular textual features\n"
   ]
  },
  {
   "cell_type": "markdown",
   "id": "fb2640eb-f9d1-4f90-beed-c88e0f2d4b5d",
   "metadata": {},
   "source": [
    "In addition to the basic token BoW feature, there are two other types of widely used textual features. If you are interested, you may explore them yourself to learn how to extract them from the course textual content: \n"
   ]
  },
  {
   "cell_type": "markdown",
   "id": "1d0fce07-43d9-4493-87e4-de5ca9be2b52",
   "metadata": {},
   "source": [
    "- **tf-idf**: tf-idf refers to Term Frequency–Inverse Document Frequency. Similar to BoW, the tf-idf also counts the word frequencies in each document. Furthermore, tf-idf will  offset the number of documents in the corpus that contain the word in order to adjust for the fact that some words appear more frequently in general. The higher the tf-idf normally means the greater the importance the word/token is.\n",
    "- **Text embedding vector**. Embedding means projecting an object into a latent feature space. We normally employ neural networks or deep neural networks to learn the latent features of a textual object such as a word, a sentence, or the entire document. The learned latent feature vectors will be used to represent the original textual entities. \n"
   ]
  },
  {
   "cell_type": "markdown",
   "id": "170fe1d5-92e9-4dcd-a8a8-33c26cf68440",
   "metadata": {},
   "source": [
    "### Summary\n"
   ]
  },
  {
   "cell_type": "markdown",
   "id": "7b116db7-431d-4c22-8243-d64401ccc9fe",
   "metadata": {},
   "source": [
    "Congratulations, you have completed the BoW feature extraction lab. In this lab, you have learned and practiced extracting BoW features from course titles and descriptions. Once the feature vectors on the courses has been built, we can then apply machine learning algorithms such as similarity measurements, clustering, or classification on the courses in later labs.\n"
   ]
  },
  {
   "cell_type": "markdown",
   "id": "c85c58ad-b2e0-412c-b9ad-d4d104730a8d",
   "metadata": {},
   "source": [
    "## Authors\n"
   ]
  },
  {
   "cell_type": "markdown",
   "id": "e5fd87e9-87fd-4c54-8572-1e42daf7dbb5",
   "metadata": {},
   "source": [
    "[Yan Luo](https://www.linkedin.com/in/yan-luo-96288783/)\n"
   ]
  },
  {
   "cell_type": "markdown",
   "id": "880057a5-6bf0-48d8-8cb6-21e6fe0cac58",
   "metadata": {},
   "source": [
    "### Other Contributors\n"
   ]
  },
  {
   "cell_type": "markdown",
   "id": "a554867c-9acf-435e-ac7e-b139ef3648ef",
   "metadata": {},
   "source": [
    "```toggle## Change Log\n",
    "```\n"
   ]
  },
  {
   "cell_type": "markdown",
   "id": "e4ae1de7-0ecb-466b-8c6b-5d19d0c3e365",
   "metadata": {},
   "source": [
    "```toggle|Date (YYYY-MM-DD)|Version|Changed By|Change Description|\n",
    "```\n",
    "```toggle|-|-|-|-|\n",
    "```\n",
    "```toggle|2021-10-25|1.0|Yan|Created the initial version|\n",
    "```\n"
   ]
  },
  {
   "cell_type": "markdown",
   "id": "d99dd419-a6c1-41bb-b35f-b1aa6bee6494",
   "metadata": {},
   "source": [
    "Copyright © 2021 IBM Corporation. All rights reserved.\n"
   ]
  }
 ],
 "metadata": {
  "kernelspec": {
   "display_name": "Python 3",
   "language": "python",
   "name": "python3"
  },
  "language_info": {
   "codemirror_mode": {
    "name": "ipython",
    "version": 3
   },
   "file_extension": ".py",
   "mimetype": "text/x-python",
   "name": "python",
   "nbconvert_exporter": "python",
   "pygments_lexer": "ipython3",
   "version": "3.12.7"
  },
  "prev_pub_hash": "8d069c20f6b67c72893be20759006a23e5dfcb0c7f9686cfba351e882ac276d0"
 },
 "nbformat": 4,
 "nbformat_minor": 4
}
